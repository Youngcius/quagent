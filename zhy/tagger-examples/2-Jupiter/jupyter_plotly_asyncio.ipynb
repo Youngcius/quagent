{
 "cells": [
  {
   "cell_type": "markdown",
   "metadata": {},
   "source": [
    "# Live plots of Time Tagger measurements in a jupyter notebook\n",
    "\n",
    "This jupyter notebook gives an example how to show live plots of Time Tagger Measurements. As an example, we enable the internal test signal and continuously plot the countrate.\n",
    "\n",
    "### Idea\n",
    "\n",
    "We use **plotly** for the plotting as it integrates nicely with the javascript side of jupyter and has better live plotting capabilities then matplotlib.\n",
    "\n",
    "We use **asyncio** for background plot updates for its ease of use.\n",
    "\n",
    "### Installation\n",
    "\n",
    "Install __[anaconda python](https://www.anaconda.com/distribution/)__\n",
    "\n",
    "Install jupyter, plotly, nodejs\n",
    "\n",
    "```\n",
    "conda install jupyter\n",
    "conda install plotly\n",
    "conda install nodejs\n",
    "conda install ipywidgets\n",
    "```\n",
    "\n",
    "If you want to use jupyter lab, you may need to install jupyterlab extensions for plotly following the README on __[https://github.com/plotly/plotly.py](https://github.com/plotly/plotly.py)__\n"
   ]
  },
  {
   "cell_type": "code",
   "execution_count": 1,
   "metadata": {},
   "outputs": [],
   "source": [
    "from TimeTagger import *\n",
    "\n",
    "import asyncio\n",
    "import numpy as np\n",
    "from ipywidgets import Button\n",
    "import plotly.graph_objs as go"
   ]
  },
  {
   "cell_type": "markdown",
   "metadata": {},
   "source": [
    "Connect to the TimeTagger and enable the internal test signal on channel 1"
   ]
  },
  {
   "cell_type": "code",
   "execution_count": 2,
   "metadata": {},
   "outputs": [],
   "source": [
    "# connect to the TimeTagger\n",
    "tagger = createTimeTagger()\n",
    "\n",
    "# enable the internal test signal on channels \n",
    "tagger.setTestSignal(1, True)"
   ]
  },
  {
   "cell_type": "markdown",
   "metadata": {},
   "source": [
    "Create a plot and mechanisms to update it in the background"
   ]
  },
  {
   "cell_type": "code",
   "execution_count": 3,
   "metadata": {},
   "outputs": [
    {
     "data": {
      "application/vnd.jupyter.widget-view+json": {
       "model_id": "6f3fab3e7bd64adeb1758c91ab0b6c48",
       "version_major": 2,
       "version_minor": 0
      },
      "text/plain": [
       "FigureWidget({\n",
       "    'data': [{'type': 'scatter',\n",
       "              'uid': 'efc0e16e-41c2-4e24-a7d7-d6e0050605f7',\n",
       " …"
      ]
     },
     "metadata": {},
     "output_type": "display_data"
    },
    {
     "data": {
      "application/vnd.jupyter.widget-view+json": {
       "model_id": "d3621d1019cb4c22a5936521c65a1a41",
       "version_major": 2,
       "version_minor": 0
      },
      "text/plain": [
       "Button(description='stop', style=ButtonStyle())"
      ]
     },
     "metadata": {},
     "output_type": "display_data"
    }
   ],
   "source": [
    "# create a counter with 100 ms binwidth and one bin and \n",
    "trace = Counter(tagger, [1], 10**9, 1000)\n",
    "\n",
    "# create a figure widget and a plot\n",
    "fig_trace = go.FigureWidget()\n",
    "fig_trace.add_scatter(x=trace.getIndex(), y=trace.getData()[0])\n",
    "\n",
    "async def update_trace():\n",
    "    \"\"\"Update the plot every 0.1 s\"\"\"\n",
    "    while True:\n",
    "        fig_trace.data[0].y = trace.getData()[0]\n",
    "        await asyncio.sleep(0.1)\n",
    "\n",
    "# If this cell is re-excecuted and there was a previous task, stop it first to avoid a dead daemon\n",
    "try:\n",
    "    task_trace.cancel()\n",
    "except:\n",
    "    pass\n",
    "loop = asyncio.get_event_loop()\n",
    "task_trace = loop.create_task(update_trace())\n",
    "    \n",
    "# create a stop button\n",
    "button_trace = Button(description='stop')\n",
    "button_trace.on_click(lambda a: task_trace.cancel())\n",
    "\n",
    "display(fig_trace,button_trace)\n"
   ]
  },
  {
   "cell_type": "markdown",
   "metadata": {},
   "source": [
    "You can stop the background plotting either by clicking on the stop button above or by excecuting `task_trace.cancel()`"
   ]
  },
  {
   "cell_type": "markdown",
   "metadata": {},
   "source": [
    "In the next example we produce a bar plot by using a countrate with only one bin."
   ]
  },
  {
   "cell_type": "code",
   "execution_count": 5,
   "metadata": {},
   "outputs": [
    {
     "data": {
      "application/vnd.jupyter.widget-view+json": {
       "model_id": "372a7bb1171c4ce384f11b3a31cb1f7b",
       "version_major": 2,
       "version_minor": 0
      },
      "text/plain": [
       "FigureWidget({\n",
       "    'data': [{'type': 'bar',\n",
       "              'uid': 'f74f0914-b7a8-4063-85b0-d6cca7ddc79f',\n",
       "     …"
      ]
     },
     "metadata": {},
     "output_type": "display_data"
    },
    {
     "data": {
      "application/vnd.jupyter.widget-view+json": {
       "model_id": "bfda33cf580642bf9bd32f9d044ff485",
       "version_major": 2,
       "version_minor": 0
      },
      "text/plain": [
       "Button(description='stop', style=ButtonStyle())"
      ]
     },
     "metadata": {},
     "output_type": "display_data"
    }
   ],
   "source": [
    "# create a counter with 100 ms binwidth and one bin and \n",
    "point = Counter(tagger, [1], 10**11, 1)\n",
    "\n",
    "# create a figure widget and a plot\n",
    "fig_bar = go.FigureWidget()\n",
    "fig_bar.add_bar(x=point.getIndex(), y=point.getData()[0])\n",
    "fig_bar.layout.yaxis={'range':[0,100000]}\n",
    "\n",
    "async def update_bar():\n",
    "    \"\"\"Update the plot every 0.1 s\"\"\"\n",
    "    while True:\n",
    "        fig_bar.data[0].y = point.getData()[0]\n",
    "        await asyncio.sleep(0.1)\n",
    "\n",
    "# If this cell is re-excecuted and there was a previous task, stop it first to avoid a dead daemon\n",
    "try:\n",
    "    task_bar.cancel()\n",
    "except:\n",
    "    pass\n",
    "loop = asyncio.get_event_loop()\n",
    "task_bar = loop.create_task(update_bar())\n",
    "\n",
    "# create a stop button\n",
    "button_bar = Button(description='stop')\n",
    "button_bar.on_click(lambda a: task_bar.cancel())\n",
    "\n",
    "display(fig_bar, button_bar)\n"
   ]
  },
  {
   "cell_type": "code",
   "execution_count": null,
   "metadata": {},
   "outputs": [],
   "source": []
  }
 ],
 "metadata": {
  "kernelspec": {
   "display_name": "Python 3",
   "language": "python",
   "name": "python3"
  },
  "language_info": {
   "codemirror_mode": {
    "name": "ipython",
    "version": 3
   },
   "file_extension": ".py",
   "mimetype": "text/x-python",
   "name": "python",
   "nbconvert_exporter": "python",
   "pygments_lexer": "ipython3",
   "version": "3.7.3"
  }
 },
 "nbformat": 4,
 "nbformat_minor": 2
}